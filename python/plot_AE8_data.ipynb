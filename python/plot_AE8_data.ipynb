{
 "cells": [
  {
   "cell_type": "code",
   "execution_count": 90,
   "metadata": {
    "collapsed": false
   },
   "outputs": [
    {
     "name": "stderr",
     "output_type": "stream",
     "text": [
      "/shared/users/asousa/software/python2/lib/python2.7/site-packages/matplotlib/__init__.py:1401: UserWarning:  This call to matplotlib.use() has no effect\n",
      "because the backend has already been chosen;\n",
      "matplotlib.use() must be called *before* pylab, matplotlib.pyplot,\n",
      "or matplotlib.backends is imported for the first time.\n",
      "\n",
      "  warnings.warn(_use_error_msg)\n"
     ]
    }
   ],
   "source": [
    "import matplotlib\n",
    "matplotlib.use('agg')\n",
    "import numpy as np\n",
    "import pandas as pd\n",
    "import pickle\n",
    "import gzip\n",
    "from scipy import interpolate\n",
    "import matplotlib.pyplot as plt\n",
    "import os\n",
    "import itertools\n",
    "import random\n",
    "import os\n",
    "import time\n",
    "import datetime as datetime\n",
    "from random import shuffle\n",
    "# from raytracer_utils import read_rayfile, read_damp\n",
    "from scipy.spatial import Delaunay\n",
    "from scipy.integrate import nquad\n",
    "from scipy import stats\n",
    "# import xflib\n",
    "# from graf_iono_absorp import total_input_power, lon2MLT, MLT2lon, input_power_scaling\n",
    "import logging\n",
    "import math\n",
    "from methods.calc_pitch_angle_change import calc_pitch_angle_change\n",
    "%matplotlib inline\n",
    "from methods.partition import partition\n",
    "import commands\n",
    "# from mpi4py import MPI\n",
    "\n",
    "import ctypes as ct\n",
    "from numpy.ctypeslib import ndpointer\n",
    "import matplotlib.gridspec as gridspec\n",
    "\n",
    "\n",
    "class flux_params(ct.Structure):\n",
    "    _fields_ = [('NUM_E', ct.c_size_t),\n",
    "                ('NUM_T', ct.c_size_t),\n",
    "                ('dt',    ct.c_double),\n",
    "                ('DE_EXP',ct.c_double),\n",
    "                ('E_EXP_BOT', ct.c_double),\n",
    "                ('E_EXP_TOP', ct.c_double),\n",
    "                ('alpha_dist', ct.c_int),\n",
    "                ('flux_dist', ct.c_int),\n",
    "                ('n_JL', ct.c_size_t),\n",
    "                ('n_JE', ct.c_size_t)\n",
    "]"
   ]
  },
  {
   "cell_type": "code",
   "execution_count": 8,
   "metadata": {
    "collapsed": false
   },
   "outputs": [
    {
     "name": "stdout",
     "output_type": "stream",
     "text": [
      "J is:  (74, 31)\n",
      "[ 1.2  1.3  1.4  1.5  1.6  1.7  1.8  1.9  2.   2.1  2.2  2.3  2.4  2.5  2.6\n",
      "  2.7  2.8  2.9  3.   3.1  3.2  3.3  3.4  3.5  3.6  3.7  3.8  3.9  4.   4.1\n",
      "  4.2  4.3  4.4  4.5  4.6  4.7  4.8  4.9  5.   5.1  5.2  5.3  5.4  5.5  5.6\n",
      "  5.7  5.8  5.9  6.   6.1  6.2  6.3  6.4  6.5  6.6  6.7  6.8  6.7  7.   7.1\n",
      "  7.2  7.3  7.4  7.5  7.6  7.7  7.8  7.9  8.   8.1  8.2  8.3  8.4]\n",
      "[ 0.1   0.2   0.3   0.4   0.5   0.6   0.7   0.8   0.9   1.    1.25  1.5\n",
      "  1.75  2.    2.25  2.5   2.75  3.    3.25  3.5   3.75  4.    4.25  4.5\n",
      "  4.75  5.    5.5   6.    6.5   7.  ]\n",
      "(4, 10, 512, 1001)\n",
      "(4, 10, 512, 1001)\n",
      "Calculating at  2.0 0\n",
      "Calculating at  2.0 1\n",
      "Calculating at  2.0 2\n",
      "Calculating at  2.0 3\n",
      "Calculating at  2.0 4\n",
      "Calculating at  2.0 5\n",
      "Calculating at  2.0 6\n",
      "Calculating at  2.0 7\n",
      "Calculating at  2.0 8\n",
      "Calculating at  2.0 9\n",
      "Calculating at  2.5 0\n",
      "Calculating at  2.5 1\n",
      "Calculating at  2.5 2\n",
      "Calculating at  2.5 3\n",
      "Calculating at  2.5 4\n",
      "Calculating at  2.5 5\n",
      "Calculating at  2.5 6\n",
      "Calculating at  2.5 7\n",
      "Calculating at  2.5 8\n",
      "Calculating at  2.5 9\n",
      "Calculating at  3.0 0\n",
      "Calculating at  3.0 1\n",
      "Calculating at  3.0 2\n",
      "Calculating at  3.0 3\n",
      "Calculating at  3.0 4\n",
      "Calculating at  3.0 5\n",
      "Calculating at  3.0 6\n",
      "Calculating at  3.0 7\n",
      "Calculating at  3.0 8\n",
      "Calculating at  3.0 9\n",
      "Calculating at  3.5 0\n",
      "Calculating at  3.5 1\n",
      "Calculating at  3.5 2\n",
      "Calculating at  3.5 3\n",
      "Calculating at  3.5 4\n",
      "Calculating at  3.5 5\n",
      "Calculating at  3.5 6\n",
      "Calculating at  3.5 7\n",
      "Calculating at  3.5 8\n",
      "Calculating at  3.5 9\n",
      "NANS 1760000\n"
     ]
    }
   ],
   "source": [
    "infile = '/shared/users/asousa/WIPP/WIPP_stencils/outputs/scattering/nightside/stencil_test/scattering_inlat_35.pklz'\n",
    "with gzip.open(infile,'r') as file:\n",
    "    indata = pickle.load(file)\n",
    "\n",
    "alpha_dist = 0\n",
    "flux_dist = 0\n",
    "fluxfile = '/shared/users/asousa/WIPP/WIPP_stencils/c/data/AE8MaxFlux_expanded.dat'\n",
    "Jdata = np.loadtxt(fluxfile)\n",
    "\n",
    "JL = Jdata[1:,0]  # L-shells in J-file\n",
    "JE = Jdata[0,1:]  # Energies in J-file\n",
    "print \"J is: \", np.shape(Jdata)\n",
    "print JL  \n",
    "print JE \n",
    "\n",
    "lib_path ='/shared/users/asousa/WIPP/WIPP_stencils/c/libwipp.so'\n",
    "ct.cdll.LoadLibrary(lib_path)\n",
    "lib = ct.CDLL(lib_path)\n",
    "# The function\n",
    "calc_flux_c = lib.calc_flux\n",
    "\n",
    "calc_flux_c.restype = None\n",
    "calc_flux_c.argtypes =  [ndpointer(ct.c_double,flags='C_CONTIGUOUS'),\n",
    "                        ct.Structure,\n",
    "                        ndpointer(ct.c_double,flags='C_CONTIGUOUS'),\n",
    "                        ct.c_double,\n",
    "                        ndpointer(ct.c_double,flags='C_CONTIGUOUS')]\n",
    "\n",
    "\n",
    "\n",
    "\n",
    "\n",
    "da_N = indata['da_N']\n",
    "da_S = indata['da_S']\n",
    "pyparams = indata['params']\n",
    "\n",
    "print np.shape(da_N)\n",
    "\n",
    "f_params = flux_params()\n",
    "f_params.NUM_E          = pyparams['NUM_E']\n",
    "f_params.NUM_T          = len(pyparams['tvec'])\n",
    "f_params.dt             = pyparams['tvec'][1] - pyparams['tvec'][0]\n",
    "f_params.DE_EXP         = np.log10(pyparams['E_tot_arr'][1]) - np.log10(pyparams['E_tot_arr'][0])\n",
    "f_params.E_EXP_BOT      = np.log10(pyparams['Emin'])\n",
    "f_params.E_EXP_TOP      = np.log10(pyparams['Emax'])\n",
    "f_params.alpha_dist     = alpha_dist\n",
    "f_params.flux_dist      = flux_dist\n",
    "f_params.n_JL           = np.shape(Jdata)[0]\n",
    "f_params.n_JE           = np.shape(Jdata)[1] \n",
    "\n",
    "\n",
    "flux_N = np.zeros_like(da_N)\n",
    "flux_S = np.zeros_like(da_S)\n",
    "print np.shape(da_N)\n",
    "for L_ind, L in enumerate(pyparams['Lshells']):\n",
    "    for lon_ind in range(np.shape(da_N)[1]):\n",
    "        print \"Calculating at \", L, lon_ind\n",
    "        calc_flux_c(da_N[L_ind, lon_ind, :, :], f_params, Jdata, L, flux_N[L_ind, lon_ind, :, :])\n",
    "        calc_flux_c(da_S[L_ind, lon_ind, :, :], f_params, Jdata, L, flux_S[L_ind, lon_ind, :, :])\n",
    "        \n",
    "print \"NANS\", np.sum(np.isnan(flux_S))"
   ]
  },
  {
   "cell_type": "code",
   "execution_count": 19,
   "metadata": {
    "collapsed": false
   },
   "outputs": [
    {
     "name": "stdout",
     "output_type": "stream",
     "text": [
      "60000\n"
     ]
    }
   ],
   "source": [
    "print np.sum(np.isnan(flux_S))"
   ]
  },
  {
   "cell_type": "code",
   "execution_count": 22,
   "metadata": {
    "collapsed": false
   },
   "outputs": [
    {
     "name": "stdout",
     "output_type": "stream",
     "text": [
      "0\n"
     ]
    }
   ],
   "source": [
    "print np.sum(np.isnan(Jdata))"
   ]
  },
  {
   "cell_type": "code",
   "execution_count": 13,
   "metadata": {
    "collapsed": false,
    "scrolled": false
   },
   "outputs": [
    {
     "ename": "SyntaxError",
     "evalue": "invalid syntax (<ipython-input-13-f34e6e762bab>, line 10)",
     "output_type": "error",
     "traceback": [
      "\u001b[1;36m  File \u001b[1;32m\"<ipython-input-13-f34e6e762bab>\"\u001b[1;36m, line \u001b[1;32m10\u001b[0m\n\u001b[1;33m    print (pyparams['E_tot_arr'] - JE[0]*1e6) > 0)\u001b[0m\n\u001b[1;37m                                                 ^\u001b[0m\n\u001b[1;31mSyntaxError\u001b[0m\u001b[1;31m:\u001b[0m invalid syntax\n"
     ]
    }
   ],
   "source": [
    "fluxfile = '/shared/users/asousa/WIPP/WIPP_stencils/c/data/AE8MaxFlux_expanded.dat'\n",
    "Jdata = np.loadtxt(fluxfile)\n",
    "\n",
    "JL = Jdata[1:,0]  # L-shells in J-file\n",
    "JE = Jdata[0,1:]  # Energies in J-file\n",
    "print \"J is: \", np.shape(Jdata)\n",
    "print JL  \n",
    "print JE \n",
    "\n",
    "print (pyparams['E_tot_arr'] - JE[0]*1e6) > 0)"
   ]
  },
  {
   "cell_type": "code",
   "execution_count": 23,
   "metadata": {
    "collapsed": false
   },
   "outputs": [
    {
     "data": {
      "text/plain": [
       "7.0"
      ]
     },
     "execution_count": 23,
     "metadata": {},
     "output_type": "execute_result"
    }
   ],
   "source": [
    "Earr = pyparams['E_tot_arr']\n",
    "Earr[48]*1e-6\n",
    "JE[29]"
   ]
  },
  {
   "cell_type": "code",
   "execution_count": 105,
   "metadata": {
    "collapsed": false
   },
   "outputs": [
    {
     "name": "stdout",
     "output_type": "stream",
     "text": [
      "J is:  (81, 65)\n",
      "(80,)\n",
      "(64,)\n",
      "(80, 64)\n",
      "[ 1.60205999  1.69897     1.77815125  1.84509804  1.90308999  1.95424251\n",
      "  2.          2.04139269  2.07918125  2.11394335  2.14612804  2.20411998\n",
      "  2.23044892  2.25527251  2.30103     2.32221929  2.36172784  2.39794001\n",
      "  2.43136376  2.462398    2.49136169  2.51851394  2.5563025   2.59106461\n",
      "  2.62324929  2.65321251  2.69019608  2.71600334  2.75587486  2.78532984\n",
      "  2.81954394  2.85125835  2.88649073  2.91907809  2.94939001  2.98227123\n",
      "  3.01703334  3.04921802  3.08278537  3.11394335  3.14612804  3.17897695\n",
      "  3.2121876   3.24551267  3.2787536   3.31175386  3.34439227  3.37657696\n",
      "  3.40993312  3.44247977  3.47567119  3.50920252  3.54157924  3.57403127\n",
      "  3.60745502  3.64048144  3.67302091  3.70586371  3.73878056  3.77158748\n",
      "  3.80413943  3.83758844  3.87040391  3.90308999]\n",
      "<matplotlib.gridspec.GridSpec object at 0x2abcfe18d0d0>\n"
     ]
    },
    {
     "data": {
      "image/png": "[encoded data removed]",
      "text/plain": [
       "<matplotlib.figure.Figure at 0x2abcfdf12990>"
      ]
     },
     "metadata": {},
     "output_type": "display_data"
    }
   ],
   "source": [
    "# --------------- Latex Plot Beautification --------------------------\n",
    "fig_width = 12 \n",
    "fig_height = 8\n",
    "fig_size =  [fig_width+1,fig_height+1]\n",
    "params = {'backend': 'ps',\n",
    "          'axes.labelsize': 18,\n",
    "          'font.size': 18,\n",
    "          'legend.fontsize': 18,\n",
    "          'xtick.labelsize': 14,\n",
    "          'ytick.labelsize': 14,\n",
    "          'text.usetex': False,\n",
    "          'figure.figsize': fig_size}\n",
    "plt.rcParams.update(params)\n",
    "# --------------- Latex Plot Beautification --------------------------\n",
    "\n",
    "fluxfile = '/shared/users/asousa/WIPP/WIPP_stencils/data/AE8MAX_integral_flux_64_energies_8.dat'\n",
    "Jdata = np.loadtxt(fluxfile)\n",
    "JL = Jdata[1:,0]  # L-shells in J-file\n",
    "JE = Jdata[0,1:]  # Energies in J-file\n",
    "print \"J is: \", np.shape(Jdata)\n",
    "print np.shape(JL)  \n",
    "print np.shape(JE)\n",
    "\n",
    "Jmax = Jdata[1:,1:]\n",
    "print np.shape(Jmax)\n",
    "fluxfile = '/shared/users/asousa/WIPP/WIPP_stencils/data/AE8MIN_integral_flux_64_energies_8.dat'\n",
    "Jdata = np.loadtxt(fluxfile)\n",
    "Jmin = Jdata[1:,1:]\n",
    "\n",
    "print np.log10(JE*1000.)\n",
    "\n",
    "fig = plt.figure()\n",
    "gs = gridspec.GridSpec(2,2, width_ratios=[1, 0.02])\n",
    "print gs\n",
    "ax0 = plt.subplot(gs[0,0])\n",
    "ax1 = plt.subplot(gs[1,0])\n",
    "cbax = plt.subplot(gs[:,-1])\n",
    "cmap = plt.get_cmap('jet')\n",
    "clims = [2,9]\n",
    "p0 =ax0.pcolor(JL, np.log10(JE*1000.), np.log10(Jmax.T), vmin=clims[0], vmax=clims[1], cmap = cmap)\n",
    "p1 =ax1.pcolor(JL, np.log10(JE*1000.), np.log10(Jmin.T), vmin=clims[0], vmax=clims[1], cmap = cmap)\n",
    "\n",
    "cb = plt.colorbar(p0, cax=cbax)\n",
    "cticks = np.arange(clims[0],clims[1] + 1)\n",
    "cb.set_ticks(cticks)\n",
    "cticklabels = ['$10^{%d}$'%k for k in cticks]\n",
    "cb.set_ticklabels(cticklabels)\n",
    "cb.set_label('Electron Flux [#/cm$^2$/sec]')\n",
    "# cb.set_label('$\\Phi$ [#/cm$^2$/keV/s]')\n",
    "\n",
    "\n",
    "ax0.set_xticks([])\n",
    "ax0.set_ylabel('Max conditions\\nEnergy [Kev]')\n",
    "ax1.set_ylabel('Min conditions\\nEnergy [Kev]')\n",
    "ax1.set_xlabel('L-shell')\n",
    "\n",
    "ax0.set_yticks(np.log10([100, 200, 500, 1000, 2000, 5000]))\n",
    "ax0.set_yticklabels([100, 200, 500, 1000, 2000, 5000])\n",
    "ax1.set_yticks(np.log10([100, 200, 500, 1000, 2000, 5000]))\n",
    "ax1.set_yticklabels([100, 200, 500, 1000, 2000, 5000])\n",
    "fig.tight_layout()\n",
    "ax0.set_title('AE8 Model Integral Flux')\n",
    "\n",
    "fig.savefig('AE8_model_data.png',ldpi=300)\n",
    "\n",
    "# ax[1].imshow(np.log10(Jmax.T), cmap = plt.get_cmap('jet'))"
   ]
  },
  {
   "cell_type": "code",
   "execution_count": 36,
   "metadata": {
    "collapsed": false,
    "scrolled": false
   },
   "outputs": [
    {
     "name": "stdout",
     "output_type": "stream",
     "text": [
      "(4, 10, 512)\n"
     ]
    }
   ],
   "source": [
    "with gzip.open('phi_inlat_35.pklz','rb') as file:\n",
    "    data = pickle.load(file)\n",
    "print np.shape(data['phi_N'])\n",
    "# fig, ax = plt.subplots(1,1)\n",
    "# ax.plot(data['phi_N'].T)"
   ]
  },
  {
   "cell_type": "code",
   "execution_count": 44,
   "metadata": {
    "collapsed": false
   },
   "outputs": [
    {
     "name": "stdout",
     "output_type": "stream",
     "text": [
      "['Lshells', 'fmin', 'fieldlines', 'fmax', 'lat_hi', 'lat_low', 'freq_pairs', 'time']\n",
      "[ 1.2  1.3  1.4  1.5  1.6  1.7  1.8  1.9  2.   2.1  2.2  2.3  2.4  2.5  2.6\n",
      "  2.7  2.8  2.9  3.   3.1  3.2  3.3  3.4  3.5  3.6  3.7  3.8  3.9  4.   4.1\n",
      "  4.2  4.3  4.4  4.5  4.6  4.7  4.8  4.9  5.   5.1  5.2  5.3  5.4  5.5  5.6\n",
      "  5.7  5.8  5.9  6.   6.1  6.2  6.3  6.4  6.5  6.6  6.7  6.8  6.9]\n"
     ]
    }
   ],
   "source": [
    "with gzip.open('../outputs/crossings3/nightside/ngo_v2/python_data/crossing_log_lat_12-13_f_10030-11720.pklz','rb') as file:\n",
    "    data = pickle.load(file)\n",
    "print data.keys()\n",
    "print data['Lshells']"
   ]
  },
  {
   "cell_type": "code",
   "execution_count": null,
   "metadata": {
    "collapsed": true
   },
   "outputs": [],
   "source": []
  }
 ],
 "metadata": {
  "kernelspec": {
   "display_name": "Python 2",
   "language": "python",
   "name": "python2"
  },
  "language_info": {
   "codemirror_mode": {
    "name": "ipython",
    "version": 2
   },
   "file_extension": ".py",
   "mimetype": "text/x-python",
   "name": "python",
   "nbconvert_exporter": "python",
   "pygments_lexer": "ipython2",
   "version": "2.7.11"
  }
 },
 "nbformat": 4,
 "nbformat_minor": 0
}
